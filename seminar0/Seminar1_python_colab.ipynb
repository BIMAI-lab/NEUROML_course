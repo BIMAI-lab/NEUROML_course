{
 "cells": [
  {
   "cell_type": "markdown",
   "metadata": {
    "id": "5fCEDCU_qrC0"
   },
   "source": [
    "# How to work with Python\n",
    "\n",
    "[![Open In Colab](https://colab.research.google.com/assets/colab-badge.svg)](https://colab.research.google.com/drive/1HRZTjLezI_QNm8aFp6Wf5YzKmOg1fxXw?usp=sharing)\n",
    "\n",
    "## What is Colab?\n",
    "\n",
    "Colab, or \"Colaboratory\", allows you to write and execute Python in your browser, with \n",
    "- Zero configuration required\n",
    "- Access to GPUs free of charge\n",
    "- Easy sharing\n",
    "\n",
    "Whether you're a **student**, a **data scientist** or an **AI researcher**, Colab can make your work easier."
   ]
  },
  {
   "cell_type": "markdown",
   "metadata": {
    "id": "GJBs_flRovLc"
   },
   "source": [
    "## Getting started\n",
    "\n",
    "The document you are reading is not a static web page, but an interactive environment called a **Colab notebook** that lets you write and execute code.\n",
    "\n",
    "For example, here is a **code cell** with a short Python script that computes a value, stores it in a variable, and prints the result:"
   ]
  },
  {
   "cell_type": "code",
   "execution_count": 1,
   "metadata": {
    "colab": {
     "base_uri": "https://localhost:8080/"
    },
    "id": "gJr_9dXGpJ05",
    "outputId": "b2e26141-631e-488e-ec56-502c9fba5ae0"
   },
   "outputs": [
    {
     "data": {
      "text/plain": [
       "86400"
      ]
     },
     "execution_count": 1,
     "metadata": {},
     "output_type": "execute_result"
    }
   ],
   "source": [
    "# run the code\n",
    "seconds_in_a_day = 24 * 60 * 60\n",
    "seconds_in_a_day"
   ]
  },
  {
   "cell_type": "markdown",
   "metadata": {
    "id": "2fhs6GZ4qFMx"
   },
   "source": [
    "To execute the code in the above cell, select it with a click and then either press the play button to the left of the code, or use the keyboard shortcut \"Command/Ctrl+Enter\". To edit the code, just click the cell and start editing.\n",
    "\n",
    "Variables that you define in one cell can later be used in other cells:"
   ]
  },
  {
   "cell_type": "code",
   "execution_count": 4,
   "metadata": {
    "colab": {
     "base_uri": "https://localhost:8080/"
    },
    "id": "-gE-Ez1qtyIA",
    "outputId": "76045907-a9ed-49f1-8285-ab34556db9e8"
   },
   "outputs": [
    {
     "data": {
      "text/plain": [
       "86400"
      ]
     },
     "execution_count": 4,
     "metadata": {},
     "output_type": "execute_result"
    }
   ],
   "source": [
    "seconds_in_a_week = seconds_in_a_day\n",
    "seconds_in_a_week"
   ]
  },
  {
   "cell_type": "markdown",
   "metadata": {
    "id": "c_x4DoEOpC5j"
   },
   "source": [
    "**New cell**\n",
    "\n",
    "You can add new cells by using the + CODE and + TEXT buttons that show when you hover between cells. These buttons are also in the toolbar above the notebook where they can be used to add a cell below the currently selected cell."
   ]
  },
  {
   "cell_type": "markdown",
   "metadata": {
    "id": "-Rh3-Vt9Nev9"
   },
   "source": [
    "## Resources\n",
    "\n",
    "Links work in Colab!\n",
    "    \n",
    "### Working woth notebooks in Colab\n",
    "\n",
    "\n",
    "- [General information about Colaboratory](/notebooks/basic_features_overview.ipynb)\n",
    "- [Markdown guide](/notebooks/markdown_guide.ipynb)\n",
    "- [Importing libraries](/notebooks/snippets/importing_libraries.ipynb)\n",
    "- [Saving notebooks in GitHub](https://colab.research.google.com/github/googlecolab/colabtools/blob/main/notebooks/colab-github-demo.ipynb)\n",
    "\n",
    "### Working with data\n",
    "\n",
    "- [Downloading the data from Drive and Google Cloud Storage](/notebooks/io.ipynb)\n",
    "- [Visualization of the data](/notebooks/charts.ipynb)\n",
    "\n"
   ]
  },
  {
   "cell_type": "markdown",
   "metadata": {
    "id": "y8YOc8hhpC5E"
   },
   "source": [
    "# Python\n",
    "\n",
    "**Python** is a high-level, general-purpose programming language."
   ]
  },
  {
   "cell_type": "markdown",
   "metadata": {
    "id": "h476OldmpC5M"
   },
   "source": [
    "# Libraries\n",
    "\n",
    "List of the most frequently used libraries:\n",
    " - <a href=\"http://numpy.org\">Numpy</a>  is the short name for Numerical Python, which is a Python library predominantly used for technical and scientific computing. Its array-oriented computing capabilities make it an essential tool for fields such as linear algebra, statistical analysis, and machine learning.\n",
    " - <a href=\"http://numpy.org\">SciPy</a> is a Python library used for scientific and technical computing. It is built on top of NumPy so it has additional functionalities for various scientific computing tasks. Optimization methods, integration, signal and image processing modules, statistics, linear algebra, splines, clustering and much more.\n",
    " -  <a href=\"http://pandas.pydata.org/\">Pandas</a> is an open-source data manipulation library for Python. It is built on top of the NumPy library. It introduces two primary data structures Series and DataFrame. Series is a one-dimensional labelled data whereas DataFrame is a two-dimensional labelled data resuming a table.\n",
    " - <a href=\"http://scikit-learn.org/stable/\">Scikit-learn</a> is a machine-learning library that provides tools for data mining and analysis. It includes lots of machine learning algorithms for different tasks.\n",
    " - <a href=\"http://http://matplotlib.org/\">matplotlib</a> is a data visualization library that allows developers to create static animated and interactive animations in Python. The graphs and plots it produces are extensively used for data visualization."
   ]
  },
  {
   "cell_type": "markdown",
   "metadata": {
    "id": "j3QTWysjpC5l"
   },
   "source": [
    "# Part 1 - Basics of Python\n",
    "\n",
    "For applied purposes, it is important to master several aspects:\n",
    "\n",
    "- Standart functions\n",
    "- Variables\n",
    "- Basics structures\n",
    "- Functions\n",
    "- Usage of libraries"
   ]
  },
  {
   "cell_type": "markdown",
   "metadata": {
    "id": "RWWB65GupC5m"
   },
   "source": [
    "## Standart functions\n",
    "\n",
    "Functions - это маленькие программки, которые умеют выполнять какую-то операцию <br />\n",
    "Functions can be <b>called</b>, после имени функции следуют круглые скобки, в которых указываются <b>аргументы</b> (над каким объектом будет выполнена операция) и <b>параметры </b> (с какими условиями)"
   ]
  },
  {
   "cell_type": "markdown",
   "metadata": {
    "id": "56KzUTOIpC5n"
   },
   "source": [
    "### print()\n",
    "Функция для вывода содержимого на экран. <br>\n",
    "**Обязательно**: передать хотя бы какой-то объект, который нужно напечатать.\n",
    "\n",
    "Ее полный синтаксис:\n",
    "\n",
    "print(*objects, sep=' ', end='\\n', file=sys.stdout, flush=False)¶\n",
    "- objects: один или несколько объектов для вывода, перечисленные через запятую\n",
    "- sep: разделитель между несколькими объектами; стандартно установлен пробел\n",
    "- end: окончание строки; стандартно установлен перевод на новую строчку '\\n'"
   ]
  },
  {
   "cell_type": "code",
   "execution_count": 6,
   "metadata": {
    "colab": {
     "base_uri": "https://localhost:8080/"
    },
    "id": "yecT45hLpC5r",
    "outputId": "6523319a-7c12-4842-abff-fcde04a3db85"
   },
   "outputs": [
    {
     "name": "stdout",
     "output_type": "stream",
     "text": [
      "5\n"
     ]
    }
   ],
   "source": [
    "print(5)"
   ]
  },
  {
   "cell_type": "code",
   "execution_count": 7,
   "metadata": {
    "colab": {
     "base_uri": "https://localhost:8080/"
    },
    "id": "f8nFcsebpC5v",
    "outputId": "a5416b0d-b3fa-4390-e83a-27222edae393"
   },
   "outputs": [
    {
     "name": "stdout",
     "output_type": "stream",
     "text": [
      "5 6 7 8\n"
     ]
    }
   ],
   "source": [
    "print(5, 6, 7, 8)"
   ]
  },
  {
   "cell_type": "code",
   "execution_count": 8,
   "metadata": {
    "colab": {
     "base_uri": "https://localhost:8080/"
    },
    "id": "iTQrb3P3pC5w",
    "outputId": "16e55b93-a48f-4734-8d29-11b1f5964623"
   },
   "outputs": [
    {
     "name": "stdout",
     "output_type": "stream",
     "text": [
      "5_6_7_8\n"
     ]
    }
   ],
   "source": [
    "print(5, 6, 7, 8, sep='_')"
   ]
  },
  {
   "cell_type": "code",
   "execution_count": 9,
   "metadata": {
    "colab": {
     "base_uri": "https://localhost:8080/"
    },
    "id": "3NA4YyVBpC5x",
    "outputId": "b7f56129-798d-4dae-b2ca-29eb9dfeef0f"
   },
   "outputs": [
    {
     "name": "stdout",
     "output_type": "stream",
     "text": [
      "October\n"
     ]
    }
   ],
   "source": [
    "print('October')"
   ]
  },
  {
   "cell_type": "markdown",
   "metadata": {
    "id": "dgZO7wuRpC5x"
   },
   "source": [
    "#### Задача 1\n",
    "\n",
    "Выведите на экран фразу \"Hello, world!\""
   ]
  },
  {
   "cell_type": "code",
   "execution_count": 10,
   "metadata": {
    "id": "Vcd8AonupC5z"
   },
   "outputs": [],
   "source": [
    "# Напишите код и запустите\n"
   ]
  },
  {
   "cell_type": "markdown",
   "metadata": {
    "id": "M6M3sDgdpC58"
   },
   "source": [
    "### Арифметические операции\n",
    "- Сложение: +\n",
    "- Вычитание: -\n",
    "- Умножение: *\n",
    "- Деление: /\n",
    "- Возведение в степень: **\n",
    "- Целочисленное деление: //\n",
    "- Остаток от деления: %"
   ]
  },
  {
   "cell_type": "code",
   "execution_count": 11,
   "metadata": {
    "colab": {
     "base_uri": "https://localhost:8080/"
    },
    "id": "xXMV843IpC5-",
    "outputId": "e60e8d7f-5c3d-4b18-98cd-79771608545e"
   },
   "outputs": [
    {
     "name": "stdout",
     "output_type": "stream",
     "text": [
      "Работаем с числами 5 и 2\n",
      "7\n",
      "3\n",
      "10\n",
      "2.5\n",
      "2\n",
      "Результат остатка от деления: 1\n",
      "Результат возведения в степени: 25\n"
     ]
    }
   ],
   "source": [
    "print('Работаем с числами', 5, 'и', 2)\n",
    "print(5 + 2)\n",
    "print(5 - 2)\n",
    "print(5*2)\n",
    "print(5 / 2)\n",
    "print( 5 // 2)\n",
    "print('Результат остатка от деления:', 5 % 2)\n",
    "print('Результат возведения в степени:', 5**2)"
   ]
  },
  {
   "cell_type": "markdown",
   "metadata": {
    "id": "vRY5DA4rpC6H"
   },
   "source": [
    "#### Задача 2\n",
    "\n",
    "Представим, что у нас в активе $100, которые можно инвестировать с 10%-ным ежегодным доходом. <br>\n",
    "Сколько денег мы заработаем через год? Выведите ответ на экран."
   ]
  },
  {
   "cell_type": "code",
   "execution_count": null,
   "metadata": {
    "id": "Chpcwy9hpC6I"
   },
   "outputs": [],
   "source": []
  },
  {
   "cell_type": "markdown",
   "metadata": {
    "id": "jABnWuZ1pC6J"
   },
   "source": [
    "### Переменные и типы переменных\n",
    "\n",
    "Результаты операций и манипуляций иногда нужно сохранять, поэтому мы определяем переменные - именованные объекты, которым присваиваем значения."
   ]
  },
  {
   "cell_type": "code",
   "execution_count": 12,
   "metadata": {
    "id": "5XTZBtovpC6J"
   },
   "outputs": [],
   "source": [
    "savings_2017 = 2000\n",
    "savings_2016 = 1800\n",
    "increase = ((2000 - 1800) / 1800)*100"
   ]
  },
  {
   "cell_type": "code",
   "execution_count": 13,
   "metadata": {
    "id": "NbcNPQDsYQzX"
   },
   "outputs": [],
   "source": [
    "# так можно подробно посмотреть информацию о функции\n",
    "round?"
   ]
  },
  {
   "cell_type": "code",
   "execution_count": 14,
   "metadata": {
    "colab": {
     "base_uri": "https://localhost:8080/"
    },
    "id": "MTn__npepC6K",
    "outputId": "762b8f35-e865-48f5-aa99-2919aaea01ba"
   },
   "outputs": [
    {
     "name": "stdout",
     "output_type": "stream",
     "text": [
      "11%\n"
     ]
    }
   ],
   "source": [
    "#Вывести на печать % роста накоплений\n",
    "print(round(increase), '%', sep='')"
   ]
  },
  {
   "cell_type": "markdown",
   "metadata": {
    "id": "8aJWc61spC6L"
   },
   "source": [
    "Функция **type** позволяет определить, какого типа переменная нам дана или какого типа переменную мы записали."
   ]
  },
  {
   "cell_type": "code",
   "execution_count": 15,
   "metadata": {
    "colab": {
     "base_uri": "https://localhost:8080/"
    },
    "id": "uc8M37uhpC6M",
    "outputId": "853c1060-53a3-4dc7-a205-e27fcb8165dd"
   },
   "outputs": [
    {
     "name": "stdout",
     "output_type": "stream",
     "text": [
      "<class 'int'>\n",
      "<class 'float'>\n"
     ]
    }
   ],
   "source": [
    "print(type(savings_2017))\n",
    "print(type(increase))"
   ]
  },
  {
   "cell_type": "code",
   "execution_count": 16,
   "metadata": {
    "colab": {
     "base_uri": "https://localhost:8080/"
    },
    "id": "D5n1O6RhpC6N",
    "outputId": "cffb9196-72a4-4275-f9e9-897cd803e740"
   },
   "outputs": [
    {
     "name": "stdout",
     "output_type": "stream",
     "text": [
      "<class 'str'>\n"
     ]
    }
   ],
   "source": [
    "text = 'Monatery Savings in 2017'\n",
    "print(type(text))"
   ]
  },
  {
   "cell_type": "code",
   "execution_count": 17,
   "metadata": {
    "colab": {
     "base_uri": "https://localhost:8080/"
    },
    "id": "lQ_-Q4P4pC6i",
    "outputId": "9d65e329-5576-4bb8-da2f-42c5f0bce7c6"
   },
   "outputs": [
    {
     "name": "stdout",
     "output_type": "stream",
     "text": [
      "<class 'bool'>\n"
     ]
    }
   ],
   "source": [
    "x = False\n",
    "print(type(x))"
   ]
  },
  {
   "cell_type": "markdown",
   "metadata": {
    "id": "jV-BBjaepC6i"
   },
   "source": [
    "Если нужно поменять тип переменной, то полезны функции:\n",
    "\n",
    "- int() - возвращает целочисленную переменную\n",
    "- float() - возвращает нецелочисленную переменную\n",
    "- bool() - возвращает булеву переменную\n",
    "- str() - возвращает строковую переменную"
   ]
  },
  {
   "cell_type": "code",
   "execution_count": 18,
   "metadata": {
    "colab": {
     "base_uri": "https://localhost:8080/"
    },
    "id": "VlrDw9fppC6j",
    "outputId": "c682e189-6f03-4f15-fe71-f5c824168ffa"
   },
   "outputs": [
    {
     "name": "stdout",
     "output_type": "stream",
     "text": [
      "2000 <class 'int'>\n",
      "2000 <class 'str'>\n",
      "Savings in 2017: 2000\n"
     ]
    }
   ],
   "source": [
    "print(savings_2017, type(savings_2017))\n",
    "savings_2017_new = str(savings_2017)\n",
    "print(savings_2017_new, type(savings_2017_new))\n",
    "print('Savings ' +  'in 2017: ' + savings_2017_new)"
   ]
  },
  {
   "cell_type": "code",
   "execution_count": 19,
   "metadata": {
    "colab": {
     "base_uri": "https://localhost:8080/"
    },
    "id": "gk-AXiQepC6j",
    "outputId": "bf7f9c49-0c42-4c7e-e20b-17b89f3675e1"
   },
   "outputs": [
    {
     "name": "stdout",
     "output_type": "stream",
     "text": [
      "200\n"
     ]
    }
   ],
   "source": [
    "print(int(savings_2017_new) - savings_2016)"
   ]
  },
  {
   "cell_type": "markdown",
   "metadata": {
    "id": "KHpF7nAIpC6l"
   },
   "source": [
    "#### Задача 4\n",
    "\n",
    "Поправьте строчку кода так, чтобы она работала:"
   ]
  },
  {
   "cell_type": "code",
   "execution_count": 21,
   "metadata": {
    "colab": {
     "base_uri": "https://localhost:8080/",
     "height": 200
    },
    "id": "vaUq73yLpC6m",
    "outputId": "c6b2b414-0ed6-4184-eb3f-d07484b4cc56"
   },
   "outputs": [],
   "source": [
    "# print(\"I started with $\" + savings_2016 + \" and now have $\" + savings_2017_new + \". Not good!\")"
   ]
  },
  {
   "cell_type": "markdown",
   "metadata": {
    "id": "GjiCxniOpC6n"
   },
   "source": [
    "### Листы\n",
    "\n",
    "Четыре рассмотренных типа данных устроены так, что в одной переменной записано одно значение:\n",
    "- int: целое число\n",
    "- float: число с дробной частью\n",
    "- str: текст\n",
    "- bool: логическая переменная\n",
    "\n",
    "Например, если мы хотим зафиксировать накопления членов семьи, мы можем создать ряд переменных и вписать туда информацию"
   ]
  },
  {
   "cell_type": "code",
   "execution_count": 22,
   "metadata": {
    "id": "6-WSE7aRpC6t"
   },
   "outputs": [],
   "source": [
    "savings1 = 500\n",
    "savings2 = 1000\n",
    "savings3 = 746\n",
    "savings4 = 456"
   ]
  },
  {
   "cell_type": "markdown",
   "metadata": {
    "id": "-vxkWGjDpC6v"
   },
   "source": [
    "Но это не очень удобно, мы можем записать всю информацию в одной переменной:"
   ]
  },
  {
   "cell_type": "code",
   "execution_count": 23,
   "metadata": {
    "id": "2bnGCiIWpC6w"
   },
   "outputs": [],
   "source": [
    "savings_family = [500, 1000, 746, 2000]"
   ]
  },
  {
   "cell_type": "markdown",
   "metadata": {
    "id": "8_xC76KOpC6w"
   },
   "source": [
    "Эта конструкция называется листом и является отдельным типом данных. К элементам листа можно обращаться по индексу:"
   ]
  },
  {
   "cell_type": "code",
   "execution_count": 24,
   "metadata": {
    "colab": {
     "base_uri": "https://localhost:8080/"
    },
    "id": "yK9zTwV0Zzyp",
    "outputId": "b7f528ec-f31c-4acc-df6a-6c1b112f6144"
   },
   "outputs": [
    {
     "name": "stdout",
     "output_type": "stream",
     "text": [
      "746\n"
     ]
    }
   ],
   "source": [
    "print(savings_family[2])"
   ]
  },
  {
   "cell_type": "code",
   "execution_count": 25,
   "metadata": {
    "colab": {
     "base_uri": "https://localhost:8080/"
    },
    "id": "z_24VgIkaAC0",
    "outputId": "6b61bd05-d6a2-448f-ac6f-b32e998f2511"
   },
   "outputs": [
    {
     "name": "stdout",
     "output_type": "stream",
     "text": [
      "2000\n"
     ]
    }
   ],
   "source": [
    "print(savings_family[-1])"
   ]
  },
  {
   "cell_type": "markdown",
   "metadata": {
    "id": "Einf5zrzpC6z"
   },
   "source": [
    "А здесь - лист листов :)"
   ]
  },
  {
   "cell_type": "code",
   "execution_count": 26,
   "metadata": {
    "id": "XNGvC7R-pC68"
   },
   "outputs": [],
   "source": [
    "savings_family = [['mom', 500], ['dad', 1000], ['brother', 746], ['me', 2000]]"
   ]
  },
  {
   "cell_type": "code",
   "execution_count": 27,
   "metadata": {
    "colab": {
     "base_uri": "https://localhost:8080/"
    },
    "id": "Te0KpGsjpC6_",
    "outputId": "e6b03a9d-8242-4ecb-d320-c07b541b9b8a"
   },
   "outputs": [
    {
     "name": "stdout",
     "output_type": "stream",
     "text": [
      "4246\n"
     ]
    }
   ],
   "source": [
    "s = 0\n",
    "# Цикл, в котором суммируем все накопления\n",
    "for member in savings_family:\n",
    "    s = s + member[1]\n",
    "print(s)"
   ]
  },
  {
   "cell_type": "code",
   "execution_count": 28,
   "metadata": {
    "colab": {
     "base_uri": "https://localhost:8080/"
    },
    "id": "zcTEaThKpC7A",
    "outputId": "c2302be9-0ce6-4a5d-9dec-a9cd1fa6cb99"
   },
   "outputs": [
    {
     "name": "stdout",
     "output_type": "stream",
     "text": [
      "[['mom', 500], ['dad', 1000], ['brother', 746], ['me', 2000]]\n"
     ]
    }
   ],
   "source": [
    "print(savings_family)"
   ]
  },
  {
   "cell_type": "markdown",
   "metadata": {
    "id": "CtSgszFIpC7B"
   },
   "source": [
    "#### Задача 5\n",
    "\n",
    "Создайте лист home, в котором записан название и метраж комнат в доме (kitchen - 10, bedroom - 12, bathroom - 5). Распечатайте лист."
   ]
  },
  {
   "cell_type": "code",
   "execution_count": null,
   "metadata": {
    "id": "ktyBDDIYZbi9"
   },
   "outputs": [],
   "source": []
  },
  {
   "cell_type": "markdown",
   "metadata": {
    "id": "8r91uceBpC7B"
   },
   "source": [
    "Есть много методов (т.е. функций, которые присущи только листам) для работы с листами:\n",
    "\n",
    "Методы\n",
    "- list.append(x)\tДобавляет элемент в конец списка\n",
    "- list.extend(L)\tРасширяет список list, добавляя в конец все элементы списка L\n",
    "- list.insert(i, x)\tВставляет на i-ый элемент значение x\n",
    "- list.remove(x)\tУдаляет первый элемент в списке, имеющий значение x. ValueError, если такого элемента не существует\n",
    "- list.pop([i])\tУдаляет i-ый элемент и возвращает его. Если индекс не указан, удаляется последний элемент\n",
    "- list.index(x, [start [, end]])\tВозвращает положение первого элемента со значением x (при этом поиск ведется от start до end)\n",
    "- list.count(x)\tВозвращает количество элементов со значением x\n",
    "- list.sort([key=функция])\tСортирует список на основе функции\n",
    "- list.reverse()\tРазворачивает список\n",
    "- list.copy()\tПоверхностная копия списка\n",
    "- list.clear()\tОчищает список"
   ]
  },
  {
   "cell_type": "code",
   "execution_count": 29,
   "metadata": {
    "colab": {
     "base_uri": "https://localhost:8080/"
    },
    "id": "12mV1RlFpC7C",
    "outputId": "18e30f30-fe29-4dea-aa37-0a74e3734d4d"
   },
   "outputs": [
    {
     "name": "stdout",
     "output_type": "stream",
     "text": [
      "[['mom', 500], ['dad', 1000], ['brother', 746]]\n"
     ]
    }
   ],
   "source": [
    "#удаляем запись про последнего члена семьи\n",
    "savings_family.pop()\n",
    "print(savings_family)"
   ]
  },
  {
   "cell_type": "code",
   "execution_count": 30,
   "metadata": {
    "id": "PUoz0p9XpC7C"
   },
   "outputs": [],
   "source": [
    "#а теперь добавим\n",
    "savings_family.append(['me', 2000])"
   ]
  },
  {
   "cell_type": "code",
   "execution_count": 31,
   "metadata": {
    "id": "vMK9KatlpC7D"
   },
   "outputs": [],
   "source": [
    "#Создаём список из двух списков, в котором хранится информация о сбережениях дяди в 4000 и о сбережениях тети в 10000\n",
    "savings_relatives = [['uncle', 4000], ['aunt', 10000]]"
   ]
  },
  {
   "cell_type": "code",
   "execution_count": 32,
   "metadata": {
    "colab": {
     "base_uri": "https://localhost:8080/"
    },
    "id": "MxK88btQpC7D",
    "outputId": "2a329e47-110a-49db-b208-78dd9a1cd0df"
   },
   "outputs": [
    {
     "name": "stdout",
     "output_type": "stream",
     "text": [
      "[['mom', 500], ['dad', 1000], ['brother', 746], ['me', 2000], ['uncle', 4000], ['aunt', 10000]]\n"
     ]
    }
   ],
   "source": [
    "savings_family.extend(savings_relatives)\n",
    "print(savings_family)"
   ]
  },
  {
   "cell_type": "markdown",
   "metadata": {
    "id": "FVqGlXqBpC7E"
   },
   "source": [
    "#### Задача 6\n",
    "\n",
    "Посчитайте сумму сбережений всей семьи"
   ]
  },
  {
   "cell_type": "code",
   "execution_count": 33,
   "metadata": {
    "colab": {
     "base_uri": "https://localhost:8080/"
    },
    "id": "qE-HCPBlpC7E",
    "outputId": "bc276b70-6148-49d7-9a76-dd7f27d5adc0"
   },
   "outputs": [
    {
     "name": "stdout",
     "output_type": "stream",
     "text": [
      "['mom', 500]\n",
      "['dad', 1000]\n",
      "['brother', 746]\n",
      "['me', 2000]\n",
      "['uncle', 4000]\n",
      "['aunt', 10000]\n"
     ]
    }
   ],
   "source": [
    "for member in savings_family:\n",
    "    #ваш код здесь\n",
    "    print(member)"
   ]
  },
  {
   "cell_type": "markdown",
   "metadata": {
    "id": "EfkORdVapC7E"
   },
   "source": [
    "## Основные конструкции языка\n",
    "\n",
    "### Логические выражения\n",
    "\n",
    "По аналогии с арифметическими выражениями существуют логические выражения, которые могут быть истинными или ложными. Простое логическое выражение имеет вид <br />\n",
    "\n",
    "<арифметическое выражение> <знак сравнения> <арифметическое выражение>. <br />\n",
    "\n",
    "Например, если у нас есть переменные x и y с какими-то значениями, то логическое выражение <br /> x + y < 3y <br /> в качестве первого арифметического выражения имеет x + y, в качестве знака сравнения < (меньше), а второе арифметическое выражение в нём 3y.\n",
    "\n",
    "<center>\n",
    "    <table>\n",
    "        <tr>\n",
    "            <th>Логическое выражение </th>\n",
    "            <th> Значение </th>\n",
    "        </tr>\n",
    "        <tr><td>&lt;</td><td> Меньше</td></tr>\n",
    "        <tr><td>&gt;</td><td> Больше</td></tr>\n",
    "        <tr><td>&lt;=</td><td> Меньше или равно</td></tr>\n",
    "        <tr><td>&gt;=</td><td> Больше или равно</td></tr>\n",
    "        <tr><td>==</td><td> Равно </td></tr>\n",
    "        <tr><td>!=</td><td> Не равно</td></tr>\n",
    "    </table>\n",
    "</center>"
   ]
  },
  {
   "cell_type": "code",
   "execution_count": 34,
   "metadata": {
    "colab": {
     "base_uri": "https://localhost:8080/"
    },
    "id": "-FYx5e4lpC7F",
    "outputId": "d83f5fe1-1fa3-45e4-d2c1-26579d26c415"
   },
   "outputs": [
    {
     "name": "stdout",
     "output_type": "stream",
     "text": [
      "<class 'bool'>\n",
      "False\n",
      "0\n"
     ]
    }
   ],
   "source": [
    "x = 1 > 2\n",
    "print(type(x))\n",
    "print(x)\n",
    "print(int(x))"
   ]
  },
  {
   "cell_type": "markdown",
   "metadata": {
    "id": "wlmTYNWbpC7F"
   },
   "source": [
    "Чтобы записать сложное логическое выражение, часто бывает необходимо воспользоваться логическими связками \"и\", \"или\" и \"не\". В Питоне они обозначаются как and, or и not соответственно. Операции and и or являеются бинарными, т.е. должны быть записаны между операндами, например x < 3 or y > 2. Операция not - унарная и должна быть записана перед единственным своим операндом."
   ]
  },
  {
   "cell_type": "code",
   "execution_count": 36,
   "metadata": {
    "id": "FG5kUzTEpC7G"
   },
   "outputs": [],
   "source": [
    "# Задайте 3 любых числа x, y, z:\n",
    "\n",
    "# print(x == y)\n",
    "# print(x > y and y < z)"
   ]
  },
  {
   "cell_type": "markdown",
   "metadata": {
    "id": "iVRGUb-rpC7H"
   },
   "source": [
    "#### Задача 7\n",
    "\n",
    "Сравните, больше ли x 10. Результат распечатайте"
   ]
  },
  {
   "cell_type": "code",
   "execution_count": 37,
   "metadata": {
    "id": "zglUADILpC7K"
   },
   "outputs": [],
   "source": [
    "x = 7\n"
   ]
  },
  {
   "cell_type": "markdown",
   "metadata": {
    "id": "dvfNINn7pC7L"
   },
   "source": [
    "**Задача 8**\n",
    "\n",
    "Сбережения мамы попадают в интервал с 300 до 500? Напишите логическое выражение, проверяющее это условие\n"
   ]
  },
  {
   "cell_type": "code",
   "execution_count": 38,
   "metadata": {
    "id": "R1w07n0DpC7N"
   },
   "outputs": [],
   "source": [
    "savings_mom = 500\n"
   ]
  },
  {
   "cell_type": "markdown",
   "metadata": {
    "id": "LcFyP8bQpC7N"
   },
   "source": [
    "\n",
    "### Условный оператор"
   ]
  },
  {
   "cell_type": "markdown",
   "metadata": {
    "id": "feBYuyDmpC7O"
   },
   "source": [
    "Наиболее частое применение логические выражения находят в условных операторах.\n",
    "\n",
    "Синтаксис в питоне: <br />\n",
    "**if** условие1:<br />\n",
    "&emsp; команды<br />\n",
    "**elif** условие2:<br />\n",
    "&emsp; команды<br />\n",
    "**elif** условие3:<br />\n",
    "&emsp; команды<br />\n",
    "**else**: <br />\n",
    "&emsp; команды<br />"
   ]
  },
  {
   "cell_type": "code",
   "execution_count": 39,
   "metadata": {
    "colab": {
     "base_uri": "https://localhost:8080/"
    },
    "id": "c2ybFonjpC7O",
    "outputId": "81bd1267-0c91-4d8c-9e14-76bd5031fa24"
   },
   "outputs": [
    {
     "name": "stdout",
     "output_type": "stream",
     "text": [
      " \n",
      "Y не меньше, чем X\n"
     ]
    }
   ],
   "source": [
    "x = 5\n",
    "y = 7\n",
    "if x > y:\n",
    "    print('X больше Y')\n",
    "    print(x - y)\n",
    "else:\n",
    "    print(' ')\n",
    "    print('Y не меньше, чем X')"
   ]
  },
  {
   "cell_type": "code",
   "execution_count": 41,
   "metadata": {
    "colab": {
     "base_uri": "https://localhost:8080/"
    },
    "id": "-SQ66kljpC7O",
    "outputId": "787be393-bd51-412b-e18e-5d3918fa0c89"
   },
   "outputs": [
    {
     "name": "stdout",
     "output_type": "stream",
     "text": [
      "Y больше X\n",
      "2\n"
     ]
    }
   ],
   "source": [
    "# x = int(input('Введите х '))\n",
    "# y = int(input('Введите y '))\n",
    "if x > y:\n",
    "    print('X больше Y')\n",
    "    print(x - y)\n",
    "elif y > x:\n",
    "    print('Y больше X')\n",
    "    print(y - x)\n",
    "else:\n",
    "    print('X равно Y')"
   ]
  },
  {
   "cell_type": "markdown",
   "metadata": {
    "id": "26xqjDqGpC7P"
   },
   "source": [
    "#### Задачи 9\n",
    "\n",
    "1) Дана площадь кухни. Если она превышает 15 кв.м, то должна появиться строчка \"Кухня большая!\", в противном случае - \"Кухня маленькая\""
   ]
  },
  {
   "cell_type": "code",
   "execution_count": 43,
   "metadata": {
    "id": "uGqzxyQYpC7P"
   },
   "outputs": [],
   "source": [
    "room = \"kit\"\n",
    "area = 14.0\n",
    "\n",
    "# if #ваш код здесь:\n",
    "#     print()\n",
    "# else:\n",
    "#     print()"
   ]
  },
  {
   "cell_type": "markdown",
   "metadata": {
    "id": "a410kDfapC7T"
   },
   "source": [
    "### Цикл while\n",
    "\n",
    "Как только строчка кода выполнилась, она \"забывается\", т.е. чтобы повторить это действие, нужно явно прописать еще раз. Для многократного повторения одних и тех же действий используются циклические конструкции.\n",
    "\n",
    "While переводится как \"пока\" и позволяет выполнять команды, до тех пор, пока условие верно. После окончания выполнения блока команд, относящихся к while, управление возвращается на строку с условием и, если оно выполнено, то выполнение блока команд повторяется, а если не выполнено, то продолжается выполнение команд, записанных после while.\n",
    "\n",
    "Важно случайно не сделать бесконечный цикл!\n",
    "\n",
    "**while** условие1:<br />\n",
    "&emsp; команды<br />\n",
    "\n",
    "Все команды пишутся с отступом."
   ]
  },
  {
   "cell_type": "code",
   "execution_count": 44,
   "metadata": {
    "colab": {
     "base_uri": "https://localhost:8080/"
    },
    "id": "Tqrt88zkpC7U",
    "outputId": "3ff45f41-8066-4edd-c0ee-5b1fdf6c0337",
    "scrolled": true
   },
   "outputs": [
    {
     "name": "stdout",
     "output_type": "stream",
     "text": [
      "The weather is OK.\n",
      "The weather is OK.\n",
      "The weather is OK.\n",
      "The weather is OK.\n",
      "The weather is OK.\n"
     ]
    }
   ],
   "source": [
    "temperature = 5\n",
    "while temperature > 0:\n",
    "    print('The weather is OK.')\n",
    "    temperature = temperature - 1"
   ]
  },
  {
   "cell_type": "markdown",
   "metadata": {
    "id": "zu9sREE7pC7V"
   },
   "source": [
    "#### Задача 10\n",
    "\n",
    "По данному целому числу N распечатайте квадраты всех чисел, предшествующих N (включая N), в порядке убывания\n",
    "\n",
    "**Образец**\n",
    "\n",
    "Входные данные: <br />\n",
    "3\n",
    "\n",
    "Вывод программы: <br />\n",
    "9<br />\n",
    "4<br />\n",
    "1<br />"
   ]
  },
  {
   "cell_type": "code",
   "execution_count": 45,
   "metadata": {
    "id": "oe81Mm6zbocX"
   },
   "outputs": [],
   "source": [
    "N = 5\n",
    "# Ваш код\n"
   ]
  },
  {
   "cell_type": "markdown",
   "metadata": {
    "id": "W1yy7-GgpC7V"
   },
   "source": [
    "\n",
    "### Цикл for"
   ]
  },
  {
   "cell_type": "markdown",
   "metadata": {
    "id": "2OQLVxVxpC7V"
   },
   "source": [
    "#### Функция range(n)\n",
    "Создается объект класса range, внутри которого содержится арифметическая прогрессия в заданных диапазонах и с определенным шагом\n",
    "\n",
    "Ее синтаксис:\n",
    "- range(start, stop[, step])"
   ]
  },
  {
   "cell_type": "code",
   "execution_count": 46,
   "metadata": {
    "id": "bVVCBfIdpC7W"
   },
   "outputs": [
    {
     "name": "stdout",
     "output_type": "stream",
     "text": [
      "range(0, 5)\n",
      "[0, 1, 2, 3, 4]\n",
      "[2, 3, 4, 5, 6]\n",
      "[2, 4]\n"
     ]
    }
   ],
   "source": [
    "print(range(5))\n",
    "print(list(range(5)))\n",
    "print(list(range(2, 7)))\n",
    "print(list(range(2, 6, 2)))"
   ]
  },
  {
   "cell_type": "markdown",
   "metadata": {
    "id": "ytXFAy2_pC7W"
   },
   "source": [
    "## Цикл for\n",
    "Цикл for позволяет поочередно перебрать элементы из чего-нибудь итерируемого.\n",
    "\n",
    "Ее синтаксис: <br />\n",
    "**for** i **in** диапазон изменений i:<br />\n",
    "&emsp; команды\n",
    "\n",
    "Все команды пишутся с отступом"
   ]
  },
  {
   "cell_type": "code",
   "execution_count": 47,
   "metadata": {
    "id": "7bzaCeoBpC7W"
   },
   "outputs": [
    {
     "name": "stdout",
     "output_type": "stream",
     "text": [
      "0\n",
      "1\n",
      "4\n",
      "9\n",
      "16\n",
      "25\n"
     ]
    }
   ],
   "source": [
    "n = 5\n",
    "for i in range(n + 1):\n",
    "    print(i**2)"
   ]
  },
  {
   "cell_type": "code",
   "execution_count": 48,
   "metadata": {
    "id": "fLkxHq0mpC7W"
   },
   "outputs": [
    {
     "name": "stdout",
     "output_type": "stream",
     "text": [
      "red apple\n",
      "green apple\n",
      "yellow apple\n"
     ]
    }
   ],
   "source": [
    "for color in ['red', 'green', 'yellow']:\n",
    "    print(color, 'apple')"
   ]
  },
  {
   "cell_type": "markdown",
   "metadata": {
    "id": "Zy1o6gUepC7q"
   },
   "source": [
    "## Написание функций\n",
    "\n",
    "Если какие-то операции надо повторять из раза в раз и нет готовых функций, то можно создать свою.\n",
    "\n",
    "Синтаксис: <br />\n",
    "**def** название функции(список аргументов):<br />\n",
    "&emsp; команды<br />\n",
    "&emsp; **return** результат выполнения функции<br />\n",
    "\n",
    "Все команды пишутся с отступом.\n",
    "\n",
    "Функция должна быть записана в любом месте до ее первого вызова."
   ]
  },
  {
   "cell_type": "code",
   "execution_count": 50,
   "metadata": {
    "id": "sjjrB5ILpC7v"
   },
   "outputs": [],
   "source": [
    "def power(number, p):\n",
    "    result = number**p\n",
    "    return result\n",
    "\n",
    "# number = int(input(\"Число \"))\n",
    "# p = int(input(\"Степень\"))\n",
    "# print(power(number, p))"
   ]
  },
  {
   "cell_type": "markdown",
   "metadata": {
    "id": "QxoUPFoGcLLr"
   },
   "source": [
    "#### Задача 11\n",
    "\n",
    "Напишите функцию, которая по 2 сторонам прямоугольника возвращает его периметр."
   ]
  },
  {
   "cell_type": "code",
   "execution_count": 52,
   "metadata": {
    "id": "E_Fwr0c7cKJO"
   },
   "outputs": [],
   "source": [
    "# def rectangle(a, b):\n",
    "    # Ваш код\n",
    "\n",
    "a = 4\n",
    "b = 10\n",
    "# print(rectangle(a, b))"
   ]
  },
  {
   "cell_type": "markdown",
   "metadata": {
    "id": "r1efbPs8tOkj"
   },
   "source": [
    "# Работа с NumPy\n",
    "\n",
    "NumPy -- это модуль для python, который предоставляет общие математические и числовые операции в виде быстрых функций. Они обеспечивают функционал, который можно сравнить с функционалом MatLab. `NumPy` (Numeric Python) предоставляет базовые методы для манипуляции с большими массивами и матрицами. `SciPy` (Scientific Python) расширяет функционал numpy огромной коллекцией полезных алгоритмов, таких как минимизация, преобразование Фурье, регрессия, и другие прикладные математические техники.\n",
    "\n",
    "Чтобы использовать (любую) библиотеку, нужно подгрузить ее в наш рабочий документ. <br>\n",
    "Команда устроена так:\n",
    "\n",
    "\n",
    "**import** название библиотеки\n",
    "\n",
    "\n",
    "Для дальнейшего использования название библиотеки могут сократить, но тогда в загрузке указывают ее псевдоним\n",
    "\n",
    "\n",
    "**import** название библиотеки **as** псевдоним"
   ]
  },
  {
   "cell_type": "code",
   "execution_count": 53,
   "metadata": {
    "id": "sManhh33uDHn"
   },
   "outputs": [],
   "source": [
    "import numpy as np"
   ]
  },
  {
   "cell_type": "markdown",
   "metadata": {
    "id": "AjOi6ZLDuWel"
   },
   "source": [
    "Главной особенностью numpy является объект `array`. Массивы схожи со списками в python, исключая тот факт, что элементы массива должны иметь одинаковый тип данных, как `float` и `int`. С массивами можно проводить числовые операции с большим объемом информации в разы быстрее и, главное, намного эффективнее чем со списками.\n",
    "\n",
    "Создание массива из списка:"
   ]
  },
  {
   "cell_type": "code",
   "execution_count": 54,
   "metadata": {
    "colab": {
     "base_uri": "https://localhost:8080/"
    },
    "id": "qUcJk3DeuGyu",
    "outputId": "26fd3cec-7823-4536-fb6a-6502376ce2ca"
   },
   "outputs": [
    {
     "name": "stdout",
     "output_type": "stream",
     "text": [
      "<class 'numpy.ndarray'>\n"
     ]
    }
   ],
   "source": [
    "a = np.array([1, 4, 5, 8], float)\n",
    "print(type(a))"
   ]
  },
  {
   "cell_type": "markdown",
   "metadata": {
    "id": "nfPzeBGyuwss"
   },
   "source": [
    "Ко всем элементам можно получить доступ и манипулировать ими так же, как вы бы это делали с обычными списками:"
   ]
  },
  {
   "cell_type": "code",
   "execution_count": 55,
   "metadata": {
    "colab": {
     "base_uri": "https://localhost:8080/"
    },
    "id": "-Yr_e7t9uG7n",
    "outputId": "046817da-a168-44a5-bb03-c7b486fd0c4b"
   },
   "outputs": [
    {
     "name": "stdout",
     "output_type": "stream",
     "text": [
      "[1. 4.]\n"
     ]
    }
   ],
   "source": [
    "# try to print element of array\n",
    "print(a[0:2])"
   ]
  },
  {
   "cell_type": "markdown",
   "metadata": {
    "id": "PRJ9jVO5vJPC"
   },
   "source": [
    "Массивы могут быть и многомерными. Вот пример двумерного массива (матрица):"
   ]
  },
  {
   "cell_type": "code",
   "execution_count": 56,
   "metadata": {
    "colab": {
     "base_uri": "https://localhost:8080/"
    },
    "id": "Ddnd2g1AvIUg",
    "outputId": "2c0fa87d-cc70-4637-d617-c616ac4e214b"
   },
   "outputs": [
    {
     "name": "stdout",
     "output_type": "stream",
     "text": [
      "[[1. 2. 3.]\n",
      " [4. 5. 6.]]\n"
     ]
    }
   ],
   "source": [
    "a = np.array([[1, 2, 3], [4, 5, 6]], float)\n",
    "print(a)"
   ]
  },
  {
   "cell_type": "code",
   "execution_count": 57,
   "metadata": {
    "colab": {
     "base_uri": "https://localhost:8080/"
    },
    "id": "O806-rZLuG_Z",
    "outputId": "e86d2dc7-60ce-4b7e-9ee3-2cb195ee4336"
   },
   "outputs": [
    {
     "name": "stdout",
     "output_type": "stream",
     "text": [
      "[2. 5.]\n"
     ]
    }
   ],
   "source": [
    "print(a[:,1])"
   ]
  },
  {
   "cell_type": "code",
   "execution_count": 58,
   "metadata": {
    "colab": {
     "base_uri": "https://localhost:8080/"
    },
    "id": "dKfK5u_1uHC5",
    "outputId": "53624f00-5664-466e-f0e1-ca4f4f03d073"
   },
   "outputs": [
    {
     "name": "stdout",
     "output_type": "stream",
     "text": [
      "Размер массива: (2, 3)\n",
      "Тип данных в массиве: float64\n"
     ]
    }
   ],
   "source": [
    "print('Размер массива:', a.shape)\n",
    "print('Тип данных в массиве:', a.dtype)"
   ]
  },
  {
   "cell_type": "markdown",
   "metadata": {
    "id": "GXgG8B6mv9iB"
   },
   "source": [
    "Размер массива можно изменить при помощи методов `reshape`, `flatten`, `transpose`. С помощью `reshape` можно добавлять или удалять измерения в массиве, а также изменять количество элементов в каждом измерении."
   ]
  },
  {
   "cell_type": "code",
   "execution_count": 59,
   "metadata": {
    "colab": {
     "base_uri": "https://localhost:8080/"
    },
    "id": "V_hTAERruHG2",
    "outputId": "c8e7a7a4-d4d1-4910-a984-6b06358e3657"
   },
   "outputs": [
    {
     "name": "stdout",
     "output_type": "stream",
     "text": [
      "Старый размер: (10,)\n",
      "Новый размер: (5, 2)\n"
     ]
    }
   ],
   "source": [
    "a = np.array(range(10), float)\n",
    "print('Старый размер:', a.shape)\n",
    "a = a.reshape((5, 2))\n",
    "print('Новый размер:', a.shape)"
   ]
  },
  {
   "cell_type": "markdown",
   "metadata": {
    "id": "mdAp1tlxygJj"
   },
   "source": [
    "`transpose` - функция, позволяющяя менять порядок осей."
   ]
  },
  {
   "cell_type": "code",
   "execution_count": 60,
   "metadata": {
    "colab": {
     "base_uri": "https://localhost:8080/"
    },
    "id": "mq0dkBBvzB31",
    "outputId": "4b499d5d-d0a7-4226-d9df-baca6171ba61"
   },
   "outputs": [
    {
     "name": "stdout",
     "output_type": "stream",
     "text": [
      "Размер после transpose: (2, 5)\n"
     ]
    }
   ],
   "source": [
    "a = a.transpose()\n",
    "print('Размер после transpose:', a.shape)"
   ]
  },
  {
   "cell_type": "code",
   "execution_count": 61,
   "metadata": {
    "id": "FJ-fo_b0yfHn"
   },
   "outputs": [],
   "source": [
    "# make array 3-dimentional with shape = (1, 2, 5)\n",
    "\n",
    "# transpose it that it's shape = (2, 5, 1)\n"
   ]
  },
  {
   "cell_type": "markdown",
   "metadata": {
    "id": "vbvOvvT9yEBv"
   },
   "source": [
    "Функция `flatten` позволяет вытягивать массив, то есть из многомерного массива переконвертировать в одномерный."
   ]
  },
  {
   "cell_type": "code",
   "execution_count": 62,
   "metadata": {
    "colab": {
     "base_uri": "https://localhost:8080/"
    },
    "id": "0BLyDiDGwY4s",
    "outputId": "3fd2ae1a-dab2-4542-c33a-0c8fc1f36683"
   },
   "outputs": [
    {
     "name": "stdout",
     "output_type": "stream",
     "text": [
      "Размер вытянутого массива: (10,)\n"
     ]
    }
   ],
   "source": [
    "a = a.flatten()\n",
    "print('Размер вытянутого массива:', a.shape)"
   ]
  },
  {
   "cell_type": "markdown",
   "metadata": {
    "id": "M96hZWYg0DBc"
   },
   "source": [
    "Арифметические операторы в массивах применяются поэлементно."
   ]
  },
  {
   "cell_type": "code",
   "execution_count": 63,
   "metadata": {
    "colab": {
     "base_uri": "https://localhost:8080/"
    },
    "id": "DrWA-ndCwY8O",
    "outputId": "236d2116-c160-4448-bf61-ec8e51c33872"
   },
   "outputs": [
    {
     "name": "stdout",
     "output_type": "stream",
     "text": [
      "b: [0 1 2 3]\n",
      "a - b: [20 29 38 47]\n"
     ]
    }
   ],
   "source": [
    "a = np.array([20, 30, 40, 50])\n",
    "b = np.arange(4)\n",
    "print('b:', b)\n",
    "print('a - b:', a - b)"
   ]
  },
  {
   "cell_type": "code",
   "execution_count": 64,
   "metadata": {
    "colab": {
     "base_uri": "https://localhost:8080/"
    },
    "id": "CVcN1V0DwZAB",
    "outputId": "b779d2c6-63fc-4dcf-a5f9-250aea40a42b"
   },
   "outputs": [
    {
     "name": "stdout",
     "output_type": "stream",
     "text": [
      "b^5: [ 0  1  8 27]\n"
     ]
    }
   ],
   "source": [
    "print('b^5:', np.power(b, 3))"
   ]
  },
  {
   "cell_type": "code",
   "execution_count": 65,
   "metadata": {
    "colab": {
     "base_uri": "https://localhost:8080/"
    },
    "id": "0iCpR0cswZDg",
    "outputId": "505a846d-5752-4d68-f246-c271d6233f68"
   },
   "outputs": [
    {
     "name": "stdout",
     "output_type": "stream",
     "text": [
      "10 * sin(a): [ 9.12945251 -9.88031624  7.4511316  -2.62374854]\n"
     ]
    }
   ],
   "source": [
    "print('10 * sin(a):', 10 * np.sin(a))"
   ]
  },
  {
   "cell_type": "code",
   "execution_count": 66,
   "metadata": {
    "colab": {
     "base_uri": "https://localhost:8080/"
    },
    "id": "T4_lHx1G1IZE",
    "outputId": "33d11a09-99fa-413e-90a9-2d08611f0158"
   },
   "outputs": [
    {
     "name": "stdout",
     "output_type": "stream",
     "text": [
      "Elements of a < 35: [ True  True False False]\n"
     ]
    }
   ],
   "source": [
    "print('Elements of a < 35:', a < 35)"
   ]
  },
  {
   "cell_type": "markdown",
   "metadata": {
    "id": "Pw7LGQFh1YYN"
   },
   "source": [
    "Посмотрим на перемножение матриц:"
   ]
  },
  {
   "cell_type": "code",
   "execution_count": 68,
   "metadata": {
    "colab": {
     "base_uri": "https://localhost:8080/",
     "height": 269
    },
    "id": "b9zSQvxq1XLY",
    "outputId": "38bd7fdb-bf54-411e-e0b6-ad021e754dc9"
   },
   "outputs": [
    {
     "name": "stdout",
     "output_type": "stream",
     "text": [
      "elementwise product:\n",
      "[[2 0]\n",
      " [0 4]]\n",
      "matrix product\n",
      "[[5 4]\n",
      " [3 4]]\n",
      "another matrix product\n",
      "[[5 4]\n",
      " [3 4]]\n"
     ]
    }
   ],
   "source": [
    "A = np.array([[1, 1],\n",
    "              [0, 1]])\n",
    "B = np.array([[2, 0],\n",
    "              [3, 4]])\n",
    "print('elementwise product:')\n",
    "print(A * B)\n",
    "\n",
    "print('matrix product')\n",
    "print(A @ B)\n",
    "\n",
    "print('another matrix product')\n",
    "print(A.dot(B))"
   ]
  },
  {
   "cell_type": "markdown",
   "metadata": {
    "id": "QNgCcwtl2q-C"
   },
   "source": [
    "В машинном обучении и науке о данных иногда вам придется работать со случайно сгенерированными данными. Различные методы `numpy` `random`\n",
    " существуют для генерации случайных целых чисел или массива `numpy` со случайными целыми числами.\n",
    "\n",
    "Если мы инициализируем начальные условия с определенным начальным значением, то для этого начального значения всегда будут генерироваться одни и те же случайные числа. Это означает, что `numpy` `random` является детерминированным для данного начального значения."
   ]
  },
  {
   "cell_type": "code",
   "execution_count": 69,
   "metadata": {
    "id": "8gSQHtSf18ca"
   },
   "outputs": [],
   "source": [
    "np.random.seed(5)"
   ]
  },
  {
   "cell_type": "markdown",
   "metadata": {
    "id": "cL63FAoZ3Twt"
   },
   "source": [
    "Рассмотрим несколько функций для генерации случайных значений:"
   ]
  },
  {
   "cell_type": "code",
   "execution_count": 70,
   "metadata": {
    "id": "BFH9JJjs3RyE"
   },
   "outputs": [],
   "source": [
    "np.random.normal?"
   ]
  },
  {
   "cell_type": "code",
   "execution_count": 71,
   "metadata": {
    "colab": {
     "base_uri": "https://localhost:8080/"
    },
    "id": "gpWMHqvK3IK2",
    "outputId": "96f0b5f5-1acc-433c-ec84-f4cd08872638"
   },
   "outputs": [
    {
     "data": {
      "text/plain": [
       "array([1.44122749, 0.66912985])"
      ]
     },
     "execution_count": 71,
     "metadata": {},
     "output_type": "execute_result"
    }
   ],
   "source": [
    "np.random.normal(loc = 1, scale = 1, size = 2)"
   ]
  },
  {
   "cell_type": "code",
   "execution_count": 72,
   "metadata": {
    "id": "z5ytDA2c3v-T"
   },
   "outputs": [],
   "source": [
    "# Generate 2-dimentional array from normal distribution\n"
   ]
  },
  {
   "cell_type": "code",
   "execution_count": 73,
   "metadata": {
    "id": "MdfAiJqV3wN9"
   },
   "outputs": [],
   "source": [
    "np.random.rand?"
   ]
  },
  {
   "cell_type": "code",
   "execution_count": 74,
   "metadata": {
    "colab": {
     "base_uri": "https://localhost:8080/"
    },
    "id": "46Xp40T03_9A",
    "outputId": "3de59dcd-5cd1-4c21-dcb4-a43ad4fec235"
   },
   "outputs": [
    {
     "data": {
      "text/plain": [
       "array([[0.20671916, 0.91861091],\n",
       "       [0.48841119, 0.61174386]])"
      ]
     },
     "execution_count": 74,
     "metadata": {},
     "output_type": "execute_result"
    }
   ],
   "source": [
    "np.random.rand(2,2)"
   ]
  },
  {
   "cell_type": "markdown",
   "metadata": {
    "id": "cQLVejqLwh62"
   },
   "source": [
    "Больше информации об использовании `Numpy` можно найти в следующем [туториале](https://numpy.org/doc/stable/user/quickstart.html) ."
   ]
  }
 ],
 "metadata": {
  "_change_revision": 36,
  "_is_fork": false,
  "colab": {
   "provenance": []
  },
  "kernelspec": {
   "display_name": "Python 3 (ipykernel)",
   "language": "python",
   "name": "python3"
  },
  "language_info": {
   "codemirror_mode": {
    "name": "ipython",
    "version": 3
   },
   "file_extension": ".py",
   "mimetype": "text/x-python",
   "name": "python",
   "nbconvert_exporter": "python",
   "pygments_lexer": "ipython3",
   "version": "3.9.7"
  }
 },
 "nbformat": 4,
 "nbformat_minor": 1
}
