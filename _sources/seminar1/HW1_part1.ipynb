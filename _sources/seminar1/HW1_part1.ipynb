{
 "cells": [
  {
   "cell_type": "markdown",
   "metadata": {
    "id": "i7vu5OqwDqHc"
   },
   "source": [
    "# Homework1, part 1. EEG analysis (7 pt)\n",
    "\n",
    "[![Open In Colab](https://colab.research.google.com/assets/colab-badge.svg)](https://colab.research.google.com/drive/1yhN0xHweL8FkqTNzxk-BYYL4yt9gKA_m?usp=sharing)\n",
    "\n",
    "**Plan**\n",
    "\n",
    "1. Read and visualize the data (**2 pt**)\n",
    "2. Preprocess the data (**1 pt**)\n",
    "3. Use ICA for noise reduction (**2 pt**)\n",
    "4. Compute ERP, plot topomaps for ERP, and analyze (**2 pt**)\n",
    "\n",
    "This part of the homework is based on the [seminar 1](https://bimai-lab.github.io/NEUROML_course/seminar1/seminar1_working_with_eeg_ipynb_.html).\n",
    "\n",
    "**If the notebook is hard to read, we will subtract 2 points. If the notebook is not reproducible (the random seed is not fixed) and/or runs with errors, this part of the homework will be scored with 0 points.**"
   ]
  },
  {
   "cell_type": "code",
   "execution_count": 1,
   "metadata": {
    "colab": {
     "base_uri": "https://localhost:8080/"
    },
    "id": "nGOd67o5DqHi",
    "outputId": "5f767646-9969-438a-c3e7-3384019ecd03"
   },
   "outputs": [],
   "source": [
    "# For Colab only\n",
    "# !pip install mne\n",
    "# !pip install mne-connectivity"
   ]
  },
  {
   "cell_type": "code",
   "execution_count": 90,
   "metadata": {
    "id": "3gXmOl-ADqHk"
   },
   "outputs": [],
   "source": [
    "import warnings\n",
    "warnings.filterwarnings('ignore')\n",
    "import mne\n",
    "import numpy as np\n",
    "import pandas as pd\n",
    "import matplotlib.pyplot as plt\n",
    "import matplotlib"
   ]
  },
  {
   "cell_type": "code",
   "execution_count": 2,
   "metadata": {
    "id": "GnvyC8XrDqHk"
   },
   "outputs": [],
   "source": [
    "# not in colab\n",
    "# %matplotlib notebook\n",
    "# in colab\n",
    "%matplotlib inline"
   ]
  },
  {
   "cell_type": "markdown",
   "metadata": {
    "id": "UsuTOuQDDqHl"
   },
   "source": [
    "We will work with data for one patient from [EEG Motor Movement/Imagery Dataset](https://www.physionet.org/content/eegmmidb/1.0.0/)."
   ]
  },
  {
   "cell_type": "code",
   "execution_count": 4,
   "metadata": {
    "colab": {
     "base_uri": "https://localhost:8080/"
    },
    "id": "UNL5t1F3DqHn",
    "outputId": "802b3805-37cd-4235-fdd7-fd685c28e09b"
   },
   "outputs": [],
   "source": [
    "# !wget \"https://www.physionet.org/files/eegmmidb/1.0.0/S010/S010R03.edf\""
   ]
  },
  {
   "cell_type": "code",
   "execution_count": 5,
   "metadata": {
    "colab": {
     "base_uri": "https://localhost:8080/"
    },
    "id": "FCiiEdhKDqHo",
    "outputId": "56d2c1ca-6bad-4f8b-e185-7ba6560f7fb0"
   },
   "outputs": [],
   "source": [
    "# !ls"
   ]
  },
  {
   "cell_type": "markdown",
   "metadata": {
    "id": "Vp7AFIVlhZhy"
   },
   "source": [
    "## 1. Read and visualize the data (2 pt)"
   ]
  },
  {
   "cell_type": "markdown",
   "metadata": {},
   "source": [
    "### 1.1 Read the data `S010R03.edf` and get info (0.5 pt)"
   ]
  },
  {
   "cell_type": "code",
   "execution_count": 92,
   "metadata": {
    "id": "K8LGl3NmDqHp"
   },
   "outputs": [],
   "source": [
    "# YOUR CODE HERE\n"
   ]
  },
  {
   "cell_type": "markdown",
   "metadata": {
    "id": "q8WIBUqADqHp"
   },
   "source": [
    "### 1.2 Calculate the sampling frequency (0.25 pt)"
   ]
  },
  {
   "cell_type": "code",
   "execution_count": 93,
   "metadata": {
    "colab": {
     "base_uri": "https://localhost:8080/"
    },
    "id": "1spk8dYADqHq",
    "outputId": "13446641-3ff4-483b-a069-baa1b99a79e9"
   },
   "outputs": [],
   "source": [
    "# YOUR CODE HERE\n"
   ]
  },
  {
   "cell_type": "markdown",
   "metadata": {},
   "source": [
    "### 1.3 Set the best montage for the data (1 pt)\n",
    "\n",
    "The EEGs in the data were recorded from 64 electrodes according to the international 10-10 system. Find the montage from `mne.channels.get_builtin_montages(descriptions=True)` with 10-10 electrode names. Correct the channel names using `sample.rename_channels(map)` and `pick` only those channels that the montage has. Apply the montage to the raw data using `set_montage`.  You should obtain the montage with 62 channels. "
   ]
  },
  {
   "cell_type": "code",
   "execution_count": null,
   "metadata": {},
   "outputs": [],
   "source": [
    "# YOUR CODE HERE\n"
   ]
  },
  {
   "cell_type": "markdown",
   "metadata": {
    "colab": {
     "base_uri": "https://localhost:8080/"
    },
    "id": "RI-9LWI3DqHr",
    "outputId": "81e5abe7-813e-4b27-ef14-daed27bcdaf2"
   },
   "source": [
    "### 1.4 Plot sensors and PSD of the signal (0.25 pt)"
   ]
  },
  {
   "cell_type": "code",
   "execution_count": 97,
   "metadata": {
    "colab": {
     "base_uri": "https://localhost:8080/"
    },
    "id": "EOlhs63YDqHs",
    "outputId": "d4d21a8c-df29-4e38-d5b3-d1093bb33ba1"
   },
   "outputs": [],
   "source": [
    "# YOUR CODE HERE\n"
   ]
  },
  {
   "cell_type": "markdown",
   "metadata": {
    "id": "fZhEVZyPDqHs"
   },
   "source": [
    "## 2. Preprocess the data (**1 pt**)"
   ]
  },
  {
   "cell_type": "markdown",
   "metadata": {
    "id": "01QcwXLFDqHw"
   },
   "source": [
    "### 2.1 Plot EEG signals (0.25 pt) \n"
   ]
  },
  {
   "cell_type": "code",
   "execution_count": null,
   "metadata": {},
   "outputs": [],
   "source": [
    "# YOUR CODE HERE\n"
   ]
  },
  {
   "cell_type": "markdown",
   "metadata": {},
   "source": [
    "### 2.2 Remove low-freq components < 1 Hz and high-freq > 50Hz (0.5 pt)\n",
    "Use IIR filter"
   ]
  },
  {
   "cell_type": "code",
   "execution_count": null,
   "metadata": {},
   "outputs": [],
   "source": [
    "# YOUR CODE HERE\n"
   ]
  },
  {
   "cell_type": "markdown",
   "metadata": {},
   "source": [
    "### 2.3 Plot EEG signals and PSD after filtering (0.25 pt)"
   ]
  },
  {
   "cell_type": "code",
   "execution_count": 98,
   "metadata": {
    "colab": {
     "base_uri": "https://localhost:8080/",
     "height": 543
    },
    "id": "qgFcdGXgDqHw",
    "outputId": "594ea262-f7e0-4597-86bf-cda05e806490"
   },
   "outputs": [],
   "source": [
    "# YOUR CODE HERE\n"
   ]
  },
  {
   "cell_type": "markdown",
   "metadata": {},
   "source": [
    "## 3. Use ICA for noise reduction (**2 pt**)"
   ]
  },
  {
   "cell_type": "markdown",
   "metadata": {
    "id": "HeNSVEA8DqHy"
   },
   "source": [
    "### 3.1 Fit the ICA (0.75 pt)\n",
    "\n",
    "Choose the number of the components in `mne.preprocessing.ICA` and fit ICA on filtered data such that explained variance `ica.get_explained_variance_ratio` is more than 90%. "
   ]
  },
  {
   "cell_type": "code",
   "execution_count": 125,
   "metadata": {},
   "outputs": [],
   "source": [
    "# YOUR CODE HERE\n"
   ]
  },
  {
   "cell_type": "markdown",
   "metadata": {
    "id": "TESCuE9BDqHy"
   },
   "source": [
    "### 3.2 Choose artefacts (0.75 pt)\n",
    "\n",
    "Analyze the ICA decomposition using different visualization tools. Choose 2 to 4 components as artefacts and explain your choice."
   ]
  },
  {
   "cell_type": "code",
   "execution_count": 126,
   "metadata": {},
   "outputs": [],
   "source": [
    "# YOUR CODE HERE\n"
   ]
  },
  {
   "cell_type": "markdown",
   "metadata": {},
   "source": [
    "**Your explanation here:**"
   ]
  },
  {
   "cell_type": "markdown",
   "metadata": {},
   "source": [
    "### 3.3 Exclude artefacts and plot the results (0.5 pt)\n",
    "\n",
    "Plot the overlay with chosen components. Exclude chosen artefacts and plot resulting signals and PSD.  "
   ]
  },
  {
   "cell_type": "code",
   "execution_count": 127,
   "metadata": {},
   "outputs": [],
   "source": [
    "# YOUR CODE HERE\n"
   ]
  },
  {
   "cell_type": "markdown",
   "metadata": {},
   "source": [
    "## 4. Compute ERP, plot topomaps for ERP, and analyze (2 pt)"
   ]
  },
  {
   "cell_type": "markdown",
   "metadata": {},
   "source": [
    "### 4.1 Extract events from annotation and create Epoch object (0.5 pt)\n",
    "\n",
    "Extract events using `events_from_annotations`. Create Epoch object changing values `tmin=-0.5` and `tmax=0.8` (the time relative to each event at which to start and end each epoch). Count the number of events. "
   ]
  },
  {
   "cell_type": "code",
   "execution_count": null,
   "metadata": {},
   "outputs": [],
   "source": [
    "# YOUR CODE HERE\n"
   ]
  },
  {
   "cell_type": "markdown",
   "metadata": {},
   "source": [
    "### 4.2 Visualize Epoch object (0.25 pt)\n",
    "\n",
    "Plot PSD and signals"
   ]
  },
  {
   "cell_type": "code",
   "execution_count": null,
   "metadata": {},
   "outputs": [],
   "source": [
    "# YOUR CODE HERE\n"
   ]
  },
  {
   "cell_type": "markdown",
   "metadata": {},
   "source": [
    "### 4.3 Compute ERP (Evoked) and visualize (0.5 pt)\n",
    "\n",
    "Compute ERP (Evoked) for each event. Visualize using `plot_joint` and `plot_topomap` for each event."
   ]
  },
  {
   "cell_type": "code",
   "execution_count": null,
   "metadata": {},
   "outputs": [],
   "source": [
    "# YOUR CODE HERE\n"
   ]
  },
  {
   "cell_type": "markdown",
   "metadata": {
    "colab": {
     "base_uri": "https://localhost:8080/"
    },
    "id": "eTZU3ZgyDqHy",
    "outputId": "e1861893-0dfd-4b68-cb1c-dd8b7e443808"
   },
   "source": [
    "### 4.4 Visualize Global Field Power (0.25 pt)\n",
    "\n",
    "Visualize Global Field Power using `plot_compare_evokeds`."
   ]
  },
  {
   "cell_type": "code",
   "execution_count": null,
   "metadata": {},
   "outputs": [],
   "source": [
    "# YOUR CODE HERE\n"
   ]
  },
  {
   "cell_type": "markdown",
   "metadata": {
    "colab": {
     "base_uri": "https://localhost:8080/"
    },
    "id": "K54f35T2DqHy",
    "outputId": "628be652-bbc9-49f9-c238-f267e717867b"
   },
   "source": [
    "### 4.5 Write the analysis of obtained results (0.5 pt)\n",
    "\n",
    "Analyze and interpret the generated plots."
   ]
  },
  {
   "cell_type": "markdown",
   "metadata": {},
   "source": [
    "**Your text here**"
   ]
  }
 ],
 "metadata": {
  "colab": {
   "provenance": [],
   "toc_visible": true
  },
  "kernelspec": {
   "display_name": "Python 3 (ipykernel)",
   "language": "python",
   "name": "python3"
  },
  "language_info": {
   "codemirror_mode": {
    "name": "ipython",
    "version": 3
   },
   "file_extension": ".py",
   "mimetype": "text/x-python",
   "name": "python",
   "nbconvert_exporter": "python",
   "pygments_lexer": "ipython3",
   "version": "3.9.7"
  }
 },
 "nbformat": 4,
 "nbformat_minor": 1
}
